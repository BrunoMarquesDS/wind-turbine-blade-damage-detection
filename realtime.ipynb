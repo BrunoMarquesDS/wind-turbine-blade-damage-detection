{
 "cells": [
  {
   "cell_type": "code",
   "execution_count": 7,
   "id": "3229fbbc",
   "metadata": {},
   "outputs": [
    {
     "name": "stdout",
     "output_type": "stream",
     "text": [
      "Press 'q' to quit the live detection.\n"
     ]
    }
   ],
   "source": [
    "import cv2\n",
    "from ultralytics import YOLO\n",
    "\n",
    "model = YOLO(\"runs/detect/train12/weights/best.pt\")\n",
    "\n",
    "cap = cv2.VideoCapture(1)\n",
    "\n",
    "if not cap.isOpened():\n",
    "    print(\"Could not open webcam.\")\n",
    "    exit()\n",
    "\n",
    "print(\"Press 'q' to quit the live detection.\")\n",
    "\n",
    "while True:\n",
    "    ret, frame = cap.read()\n",
    "    if not ret:\n",
    "        print(\"Failed to grab frame.\")\n",
    "        break\n",
    "\n",
    "    results = model(frame, verbose=False)\n",
    "\n",
    "    annotated_frame = results[0].plot()\n",
    "\n",
    "    cv2.imshow(\"YOLOv8 - Real-Time Detection\", annotated_frame)\n",
    "\n",
    "    if cv2.waitKey(1) & 0xFF == ord(\"q\"):\n",
    "        break\n",
    "\n",
    "cap.release()\n",
    "cv2.destroyAllWindows()\n"
   ]
  },
  {
   "cell_type": "code",
   "execution_count": null,
   "id": "0df8d40d",
   "metadata": {},
   "outputs": [],
   "source": [
    "import numpy\n",
    "print(\"NumPy version:\", numpy.__version__)\n"
   ]
  },
  {
   "cell_type": "code",
   "execution_count": 3,
   "id": "0d7b14c4",
   "metadata": {},
   "outputs": [
    {
     "name": "stdout",
     "output_type": "stream",
     "text": [
      "Press 'q' to quit the live detection.\n",
      "Failed to grab frame.\n"
     ]
    }
   ],
   "source": [
    "import cv2\n",
    "from ultralytics import YOLO\n",
    "\n",
    "# Carregar o modelo treinado\n",
    "model = YOLO(\"runs/detect/train12/weights/best.pt\")\n",
    "\n",
    "cap = cv2.VideoCapture(1)\n",
    "\n",
    "if not cap.isOpened():\n",
    "    print(\"Could not open webcam.\")\n",
    "    exit()\n",
    "\n",
    "print(\"Press 'q' to quit the live detection.\")\n",
    "\n",
    "while True:\n",
    "    ret, frame = cap.read()\n",
    "    if not ret:\n",
    "        print(\"Failed to grab frame.\")\n",
    "        break\n",
    "\n",
    "    # Obter os resultados do modelo\n",
    "    results = model(frame, verbose=False)\n",
    "\n",
    "    # Obter as detecções\n",
    "    for result in results[0].boxes.data:  # Aceder às caixas de deteção\n",
    "        x1, y1, x2, y2, conf, cls = result\n",
    "\n",
    "        # Desenhar a caixa delimitadora\n",
    "        cv2.rectangle(frame, (int(x1), int(y1)), (int(x2), int(y2)), (255, 0, 0), 2)\n",
    "\n",
    "        # Formatar a confiança para ser exibida\n",
    "        label = f\"Conf: {conf:.2f}\"\n",
    "\n",
    "        # Definir o tamanho da legenda (apenas confiança)\n",
    "        font_scale = 0.2  # Ajustar o tamanho da fonte aqui\n",
    "        font = cv2.FONT_HERSHEY_SIMPLEX\n",
    "        color = (0, 255, 0)  # Cor do texto (verde)\n",
    "        thickness = 1\n",
    "\n",
    "        # Desenhar o texto (apenas a confiança) acima da caixa\n",
    "        cv2.putText(frame, label, (int(x1), int(y1)-10), font, font_scale, color, thickness, cv2.LINE_AA)\n",
    "\n",
    "    # Mostrar o frame anotado\n",
    "    cv2.imshow(\"YOLOv8 - Real-Time Detection\", frame)\n",
    "\n",
    "    # Sair se a tecla 'q' for pressionada\n",
    "    if cv2.waitKey(1) & 0xFF == ord(\"q\"):\n",
    "        break\n",
    "\n",
    "# Liberta os recursos\n",
    "cap.release()\n",
    "cv2.destroyAllWindows()\n"
   ]
  },
  {
   "cell_type": "code",
   "execution_count": null,
   "id": "3d771de4",
   "metadata": {},
   "outputs": [
    {
     "name": "stdout",
     "output_type": "stream",
     "text": [
      "Press 'q' to quit the live detection.\n"
     ]
    }
   ],
   "source": []
  },
  {
   "cell_type": "code",
   "execution_count": 1,
   "id": "edd4b3af",
   "metadata": {},
   "outputs": [
    {
     "name": "stdout",
     "output_type": "stream",
     "text": [
      "Press 'q' to quit the live detection.\n"
     ]
    }
   ],
   "source": [
    "import cv2\n",
    "from ultralytics import YOLO\n",
    "\n",
    "# Carregar o modelo treinado\n",
    "model = YOLO(\"runs/detect/train7/weights/best.pt\")\n",
    "\n",
    "cap = cv2.VideoCapture(1)\n",
    "\n",
    "if not cap.isOpened():\n",
    "    print(\"Could not open webcam.\")\n",
    "    exit()\n",
    "\n",
    "# Criar uma janela em modo fullscreen\n",
    "cv2.namedWindow(\"YOLOv8 - Real-Time Detection\", cv2.WND_PROP_FULLSCREEN)\n",
    "cv2.setWindowProperty(\"YOLOv8 - Real-Time Detection\", cv2.WND_PROP_FULLSCREEN, cv2.WINDOW_FULLSCREEN)\n",
    "\n",
    "print(\"Press 'q' to quit the live detection.\")\n",
    "\n",
    "while True:\n",
    "    ret, frame = cap.read()\n",
    "    if not ret:\n",
    "        print(\"Failed to grab frame.\")\n",
    "        break\n",
    "\n",
    "    # Obter os resultados do modelo\n",
    "    results = model(frame, verbose=False)\n",
    "\n",
    "    # Obter as detecções\n",
    "    for result in results[0].boxes.data:\n",
    "        x1, y1, x2, y2, conf, cls = result\n",
    "\n",
    "        # Desenhar a caixa delimitadora\n",
    "        cv2.rectangle(frame, (int(x1), int(y1)), (int(x2), int(y2)), (255, 0, 0), 2)\n",
    "\n",
    "        # Formatar a confiança para ser exibida\n",
    "        label = f\"Conf: {conf:.2f}\"\n",
    "\n",
    "        # Texto acima da caixa\n",
    "        font_scale = 0.6\n",
    "        font = cv2.FONT_HERSHEY_SIMPLEX\n",
    "        color = (0, 255, 0)\n",
    "        thickness = 1\n",
    "        cv2.putText(frame, label, (int(x1), int(y1)-10), font, font_scale, color, thickness, cv2.LINE_AA)\n",
    "\n",
    "    # Mostrar o frame em fullscreen\n",
    "    cv2.imshow(\"YOLOv8 - Real-Time Detection\", frame)\n",
    "\n",
    "    # Sair se a tecla 'q' for pressionada\n",
    "    if cv2.waitKey(1) & 0xFF == ord(\"q\"):\n",
    "        break\n",
    "\n",
    "# Liberta os recursos\n",
    "cap.release()\n",
    "cv2.destroyAllWindows()\n"
   ]
  }
 ],
 "metadata": {
  "kernelspec": {
   "display_name": "Python 3",
   "language": "python",
   "name": "python3"
  },
  "language_info": {
   "codemirror_mode": {
    "name": "ipython",
    "version": 3
   },
   "file_extension": ".py",
   "mimetype": "text/x-python",
   "name": "python",
   "nbconvert_exporter": "python",
   "pygments_lexer": "ipython3",
   "version": "3.11.9"
  }
 },
 "nbformat": 4,
 "nbformat_minor": 5
}
